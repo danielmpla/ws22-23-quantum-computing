{
 "cells": [
  {
   "cell_type": "markdown",
   "id": "c61cbe4a-26d2-4b32-af81-ab2c1dcbda2d",
   "metadata": {},
   "source": [
    "### **Exercise 1** Motivation and Foundations\n",
    "\n",
    "This first exercise aims to familiarize with tools for Quantum computing. We will\n",
    "- define and play around with first Quantum circuits,\n",
    "- grant room to recall Python and complex numbers.\n",
    "\n",
    "Useful material:\n",
    "- Qiskit (SDK for Quantum Computing)\n",
    "    - [Documentation](https://qiskit.org/documentation/getting_started.html)\n",
    "    - [Textbook (Introduction to Quantum Computing)](https://learn.qiskit.org/course/introduction/why-quantum-computing)\n",
    "- Python\n",
    "    - [Documentation and tutorial](https://docs.python.org/3/index.html)\n",
    "    - [Complex class (built-in complex numbers)](https://docs.python.org/3/library/numbers.html?highlight=complex#numbers.Complex)\n",
    "    - [cmath (complex math package)](https://docs.python.org/3/library/cmath.html)\n",
    "- Complex numbers\n",
    "    - [Wikipedia](https://en.wikipedia.org/wiki/Complex_number)"
   ]
  },
  {
   "cell_type": "code",
   "execution_count": 1,
   "id": "a7663b56-e470-468d-b02f-5e7a1cbaa001",
   "metadata": {},
   "outputs": [],
   "source": [
    "# imports and utilities\n",
    "from qiskit import QuantumCircuit\n",
    "from qiskit.providers.aer import AerSimulator\n",
    "import math\n",
    "import cmath\n",
    "from string import Template\n",
    "from IPython.display import Math\n",
    "import matplotlib.pyplot as plt\n",
    "\n",
    "def display_math(term, subs):\n",
    "    latex = Template(term).substitute(**subs)\n",
    "    display(Math(latex))"
   ]
  },
  {
   "cell_type": "markdown",
   "id": "607d72d8-aeca-4a0a-b416-21a5f90f1409",
   "metadata": {},
   "source": [
    "#### **Exercise 1.1** A first Quantum circuit\n",
    "\n",
    "Discuss the following Qiskit code (next cell) and represented circuit.\n",
    "1. What are the parts of the circuit (how does it compare to classical algorithms)?\n",
    "2. What is the expected behavior?"
   ]
  },
  {
   "cell_type": "code",
   "execution_count": 2,
   "id": "5429f750-21de-44ea-9eda-6b48b1998655",
   "metadata": {},
   "outputs": [
    {
     "data": {
      "image/png": "[encoded data removed]",
      "text/plain": [
       "<Figure size 267.052x204.68 with 1 Axes>"
      ]
     },
     "execution_count": 2,
     "metadata": {},
     "output_type": "execute_result"
    }
   ],
   "source": [
    "qc = QuantumCircuit(2,1)\n",
    "\n",
    "# input\n",
    "qc.x(0)\n",
    "\n",
    "# processing\n",
    "qc.cx(0,1)\n",
    "\n",
    "# output\n",
    "qc.measure(1,0)\n",
    "\n",
    "# draw circuit\n",
    "qc.draw(output=\"mpl\")"
   ]
  },
  {
   "cell_type": "markdown",
   "id": "364cd1c2-1030-4b90-9766-ddc48a2bbb73",
   "metadata": {},
   "source": [
    "#### **Solution 1.1**\n",
    "\n",
    "1. \n",
    "    - _Input_: Use NOT-gates ($X$) to initialize register from $\\lvert 0\\ldots 0\\rangle$\n",
    "    - _Processing_: Apply gates (unitary operators)\n",
    "    - _Output_: Measure against computational basis, read out results into classical bits\n",
    "\n",
    "2. \n",
    "    1. Quantum computer will initialize state to $\\lvert 00\\rangle$\n",
    "    2. $X$-gate on $q_0$ will turn state into $\\lvert 10\\rangle$\n",
    "    3. $CX$-gate (control on $q_0$, target on $q_1$) will turn state into $\\lvert 11\\rangle$\n",
    "    4. Measurement of $q_0$ will yield $c_0=1$"
   ]
  },
  {
   "cell_type": "markdown",
   "id": "5436620b-edbf-4c42-a1d6-6a66021ffb40",
   "metadata": {},
   "source": [
    "#### **Exercise 1.2** A first Quantum calculation\n",
    "\n",
    "Run the circuit from Exercise 1.1 (next cell). \n",
    "1. Interpret the result.\n",
    "2. Play around with the circuit by modifying inputs, processing gates, measurement."
   ]
  },
  {
   "cell_type": "code",
   "execution_count": 3,
   "id": "0c4262c6-f648-4173-a51a-3c518e74cea5",
   "metadata": {},
   "outputs": [
    {
     "data": {
      "text/plain": [
       "{'1': 1024}"
      ]
     },
     "execution_count": 3,
     "metadata": {},
     "output_type": "execute_result"
    }
   ],
   "source": [
    "# run circuit\n",
    "sim = AerSimulator()\n",
    "job = sim.run(qc)\n",
    "result = job.result()\n",
    "result.get_counts()"
   ]
  },
  {
   "cell_type": "markdown",
   "id": "bd364213-e24f-467b-9e6c-f258dc863dd5",
   "metadata": {},
   "source": [
    "#### **Solution 1.2**\n",
    "\n",
    "1. As described in Solution 1.2.2, the result $c_0=1$ is certain. Hence, all shots (runs of the quantum circuit) provide the same result (running on real quantum hardware might differ due to noise).\n",
    "2. See cell below."
   ]
  },
  {
   "cell_type": "code",
   "execution_count": 24,
   "id": "0ac06349-5580-4dac-9a2f-23eb120407fe",
   "metadata": {},
   "outputs": [
    {
     "data": {
      "image/png": "[encoded data removed]",
      "text/plain": [
       "<Figure size 206.852x204.68 with 1 Axes>"
      ]
     },
     "metadata": {},
     "output_type": "display_data"
    },
    {
     "data": {
      "text/plain": [
       "{'0': 1024}"
      ]
     },
     "metadata": {},
     "output_type": "display_data"
    },
    {
     "data": {
      "image/png": "[encoded data removed]",
      "text/plain": [
       "<Figure size 267.052x204.68 with 1 Axes>"
      ]
     },
     "metadata": {},
     "output_type": "display_data"
    },
    {
     "data": {
      "text/plain": [
       "{'0': 1024}"
      ]
     },
     "metadata": {},
     "output_type": "display_data"
    },
    {
     "data": {
      "image/png": "[encoded data removed]",
      "text/plain": [
       "<Figure size 267.052x204.68 with 1 Axes>"
      ]
     },
     "metadata": {},
     "output_type": "display_data"
    },
    {
     "data": {
      "text/plain": [
       "{'1': 1024}"
      ]
     },
     "metadata": {},
     "output_type": "display_data"
    },
    {
     "data": {
      "image/png": "[encoded data removed]",
      "text/plain": [
       "<Figure size 267.052x204.68 with 1 Axes>"
      ]
     },
     "metadata": {},
     "output_type": "display_data"
    },
    {
     "data": {
      "text/plain": [
       "{'0': 524, '1': 500}"
      ]
     },
     "metadata": {},
     "output_type": "display_data"
    }
   ],
   "source": [
    "def draw_run_circuit(qc):\n",
    "    display(qc.draw(output=\"mpl\"))\n",
    "    display(sim.run(qc).result().get_counts())\n",
    "\n",
    "qc0 = QuantumCircuit(2,1)\n",
    "qc0.cx(0,1)\n",
    "qc0.measure(1,0)\n",
    "\n",
    "qc1 = QuantumCircuit(2,1)\n",
    "qc1.x(0)\n",
    "qc1.cx(1,0)\n",
    "qc1.measure(1,0)\n",
    "\n",
    "qc2 = QuantumCircuit(2,1)\n",
    "qc2.x(0)\n",
    "qc2.cx(0,1)\n",
    "qc2.measure(0,0)\n",
    "\n",
    "qc3 = QuantumCircuit(2,1)\n",
    "qc3.h(0)\n",
    "qc3.cx(0,1)\n",
    "qc3.measure(1,0)\n",
    "\n",
    "draw_run_circuit(qc0)\n",
    "draw_run_circuit(qc1)\n",
    "draw_run_circuit(qc2)\n",
    "draw_run_circuit(qc3)"
   ]
  },
  {
   "cell_type": "markdown",
   "id": "together-saint",
   "metadata": {},
   "source": [
    "#### **Exercise 1.3** Complex numbers\n",
    "\n",
    "This exercise should refresh your knowledge and proficiency with complex numbers. \n",
    "Given $x=3+4i$ and $y=2−i$:\n",
    "\n",
    "1. Compute\n",
    "    - $x+y$\n",
    "    - $x\\cdot y$\n",
    "    - $\\overline{x}$ (complex conjugate of $x$)\n",
    "    - $\\overline{\\overline{x}}$ (complex conjugate of complex conjugate of $x$)\n",
    "    - $|x|$ and $\\arg(x)$ (argument), such that $x=|x|e^{i\\arg(x)}$\n",
    "    - $x\\cdot\\overline{x}$\n",
    "    - $\\dfrac{1}{x}$\n",
    "    \n",
    "2. Draw $x$ in the complex plane, and interpret $\\overline{x}$, $|x|$ and $\\arg(x)$ geometrically.\n",
    "\n",
    "3. How can one construct $x+y$ and $x\\cdot y$ geometrically in the complex plane?"
   ]
  },
  {
   "cell_type": "markdown",
   "id": "5098fd4c-c7a1-4e3d-a89f-78c155ab02fa",
   "metadata": {},
   "source": [
    "#### **Solution 1.3**\n",
    "\n",
    "1. \n",
    "    - $x+y=(3+2)+(4-1)i=5+3i$\n",
    "    - $x\\cdot y=3\\cdot 2+3\\cdot(-1)\\cdot i+4\\cdot 2\\cdot i+4\\cdot(-1)\\cdot i^2=(6+4)+(-3+8)i=10+5i$\n",
    "    - $\\overline{x}=3-4i$\n",
    "    - $\\overline{\\overline{x}}=3-(-4i)=3+4i=x$\n",
    "    - $|x|=\\sqrt{|3|^2+|4|^2}=5$\n",
    "    - $\\arg(x)=\\arctan(4/3)$\n",
    "    - $x\\cdot\\overline{x}=(3+4i)(3-4i)=3^2-(4i)^2=25=|x|^2$\n",
    "    - $\\dfrac{1}{x}=\\dfrac{1}{3+4i}\\cdot\\dfrac{3-4i}{3-4i}=\\dfrac{3}{25}-\\dfrac{4}{25}i$\n",
    "    \n",
    "2. \n",
    "    - $x$: position vector\n",
    "    - $\\overline{x}$: mirror $x$ on real axis\n",
    "    - $|x|$: length of position vector\n",
    "    - $\\arg(x)$: angle of real axis to position vector\n",
    "\n",
    "3. \n",
    "    - $x+y$: add position vectors by parallelogram rule\n",
    "    - $x\\cdot y$: add arguments and multiply lengths of position vectors"
   ]
  },
  {
   "cell_type": "markdown",
   "id": "43727bdf-577d-4d67-8441-b574781b2e39",
   "metadata": {},
   "source": [
    "#### **Exercise 1.4** Complex numbers with Python\n",
    "\n",
    "Solve Exercise 1.3 with help of Python (using the wire frame given by next cell)."
   ]
  },
  {
   "cell_type": "code",
   "execution_count": 41,
   "id": "2be2116b-1bf6-451a-95a9-582d043ea8e7",
   "metadata": {},
   "outputs": [
    {
     "data": {
      "text/latex": [
       "$\\displaystyle x+y=(5+3j)$"
      ],
      "text/plain": [
       "<IPython.core.display.Math object>"
      ]
     },
     "metadata": {},
     "output_type": "display_data"
    },
    {
     "data": {
      "text/latex": [
       "$\\displaystyle x\\cdot y=(10+5j)$"
      ],
      "text/plain": [
       "<IPython.core.display.Math object>"
      ]
     },
     "metadata": {},
     "output_type": "display_data"
    },
    {
     "data": {
      "text/latex": [
       "$\\displaystyle \\overline{x}=(3-4j)$"
      ],
      "text/plain": [
       "<IPython.core.display.Math object>"
      ]
     },
     "metadata": {},
     "output_type": "display_data"
    },
    {
     "data": {
      "text/latex": [
       "$\\displaystyle x=5.0 \\cdot e^{0.9272952180016122\\cdot i}$"
      ],
      "text/plain": [
       "<IPython.core.display.Math object>"
      ]
     },
     "metadata": {},
     "output_type": "display_data"
    },
    {
     "data": {
      "text/latex": [
       "$\\displaystyle x\\cdot\\overline{x}=(25+0j)$"
      ],
      "text/plain": [
       "<IPython.core.display.Math object>"
      ]
     },
     "metadata": {},
     "output_type": "display_data"
    },
    {
     "data": {
      "text/latex": [
       "$\\displaystyle 1/x=(0.12-0.16j)$"
      ],
      "text/plain": [
       "<IPython.core.display.Math object>"
      ]
     },
     "metadata": {},
     "output_type": "display_data"
    },
    {
     "data": {
      "image/png": "[encoded data removed]",
      "text/plain": [
       "<Figure size 432x288 with 1 Axes>"
      ]
     },
     "metadata": {
      "needs_background": "light"
     },
     "output_type": "display_data"
    }
   ],
   "source": [
    "x = 3+4j\n",
    "y = 2-1j\n",
    "\n",
    "display_math(\"x+y=$val\", {\"val\": x+y})\n",
    "display_math(\"x\\\\cdot y=$val\", {\"val\": x*y})\n",
    "display_math(\"\\\\overline{x}=$val\", {\"val\": x.conjugate()})\n",
    "display_math(\"x=$abs \\\\cdot e^{$arg\\cdot i}\", {\"abs\": abs(x), \"arg\": cmath.phase(x)})\n",
    "display_math(\"x\\\\cdot\\\\overline{x}=$val\", {\"val\": x*x.conjugate()})\n",
    "display_math(\"1/x=$val\", {\"val\": 1/x})\n",
    "\n",
    "plt.xlabel(\"Real\")\n",
    "plt.xlim([-12, 12])\n",
    "plt.xticks(range(-12,13,2))\n",
    "plt.ylabel(\"Imaginary\")\n",
    "plt.ylim([-12, 12])\n",
    "plt.yticks(range(-12,13,2))\n",
    "\n",
    "plt.plot(0, 0, \"k.\")\n",
    "plt.plot(x.real, x.imag, \"ro\")\n",
    "plt.plot(y.real, y.imag, \"ro\")\n",
    "plt.plot(x.conjugate().real, x.conjugate().imag, \"bo\")\n",
    "plt.plot((x+y).real, (x+y).imag, \"bo\")\n",
    "plt.plot((x*y).real, (x*y).imag, \"bo\")\n",
    "\n",
    "plt.show()"
   ]
  }
 ],
 "metadata": {
  "kernelspec": {
   "display_name": "Python 3 (ipykernel)",
   "language": "python",
   "name": "python3"
  },
  "language_info": {
   "codemirror_mode": {
    "name": "ipython",
    "version": 3
   },
   "file_extension": ".py",
   "mimetype": "text/x-python",
   "name": "python",
   "nbconvert_exporter": "python",
   "pygments_lexer": "ipython3",
   "version": "3.9.7"
  },
  "widgets": {
   "application/vnd.jupyter.widget-state+json": {
    "state": {},
    "version_major": 2,
    "version_minor": 0
   }
  }
 },
 "nbformat": 4,
 "nbformat_minor": 5
}
