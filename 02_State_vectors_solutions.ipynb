{
 "cells": [
  {
   "cell_type": "markdown",
   "id": "485ecb9f-2373-40ce-8504-9f30d666ac81",
   "metadata": {},
   "source": [
    "### **Solutions 2**"
   ]
  },
  {
   "cell_type": "code",
   "execution_count": 1,
   "id": "9a040329-8c90-4e57-bc58-50248c8a82f3",
   "metadata": {},
   "outputs": [],
   "source": [
    "# imports and utilities\n",
    "from qiskit import QuantumCircuit\n",
    "from qiskit.quantum_info import Statevector\n",
    "from qiskit.providers.aer import AerSimulator\n",
    "import math\n",
    "from matplotlib import pyplot as plt"
   ]
  },
  {
   "cell_type": "markdown",
   "id": "dde372d9-793a-4323-bbc6-0712ca730287",
   "metadata": {
    "tags": []
   },
   "source": [
    "#### **Solution 2.1**\n",
    "- $\\begin{bmatrix}0.8\\\\0.2\\end{bmatrix}$ is not a state vector, since $\\Bigg\\lVert\\begin{bmatrix}0.8\\\\0.2\\end{bmatrix}\\Bigg\\rVert=\\sqrt{0.8^2+0.2^2}\\neq 1$\n",
    "- $\\lvert -\\rangle=\\frac{1}{\\sqrt{2}}\\lvert 0\\rangle-\\frac{1}{\\sqrt{2}}\\lvert 1\\rangle$ is state vector, amplitutes are $\\frac{1}{\\sqrt{2}},-\\frac{1}{\\sqrt{2}}$, measurement probabilities are $\\frac{1}{2}$ for both $\\lvert 0\\rangle$ and $\\lvert 1\\rangle$\n",
    "- $\\begin{bmatrix}0\\\\i\\end{bmatrix}$ is state vector, amplitutes are $0,i$, measurement probabilities are $0$ for $\\lvert 0\\rangle$ and $1$ for $\\lvert 1\\rangle$\n",
    "- $\\dfrac{e^{i\\pi}}{2}\\begin{bmatrix}\\sqrt{3}\\\\1\\end{bmatrix}$ is state vector, amplitutes are $-\\frac{\\sqrt{3}}{2},-\\frac{1}{2}$, measurement probabilities are $\\frac{3}{4}$ for $\\lvert 0\\rangle$ and $\\frac{1}{4}$ for $\\lvert 1\\rangle$"
   ]
  },
  {
   "cell_type": "markdown",
   "id": "b274a512-04fa-4695-9869-d6d1699b9d5f",
   "metadata": {},
   "source": [
    "#### **Solution 2.2**\n",
    "1. $H^\\dagger=H,\\,HH^\\dagger=H^2=I$, therefore $H$ is unitary\n",
    "2. $H\\bigg(\\frac{\\sqrt{3}}{2}\\lvert 0\\rangle+\\frac{1}{2}\\lvert 1\\rangle\\bigg)=\\dfrac{1}{\\sqrt{2}}\\begin{bmatrix}1&1\\\\1&-1\\end{bmatrix}\\begin{bmatrix}\\sqrt{3}/2\\\\1/2\\end{bmatrix}=\\dfrac{1}{2\\sqrt{2}}\\begin{bmatrix}\\sqrt{3}+1\\\\\\sqrt{3}-1\\end{bmatrix}$\n",
    "3. Quantum computations are reversible, hence the input state is uniquely determined. It can be obtained by applying the gate's inverse. $H^{-1}\\bigg(-\\frac{1}{\\sqrt{2}}\\lvert 0\\rangle-\\frac{1}{\\sqrt{2}}\\lvert 1\\rangle\\bigg)=H\\bigg(-\\frac{1}{\\sqrt{2}}\\lvert 0\\rangle-\\frac{1}{\\sqrt{2}}\\lvert 1\\rangle\\bigg)=\\dfrac{1}{\\sqrt{2}}\\begin{bmatrix}1&1\\\\1&-1\\end{bmatrix}\\begin{bmatrix}-1/\\sqrt{2}\\\\-1/\\sqrt{2}\\end{bmatrix}=\\begin{bmatrix}-1\\\\0\\end{bmatrix}$"
   ]
  },
  {
   "cell_type": "markdown",
   "id": "9e1cfc0d-2125-4ba0-bdd6-8fac143bf48f",
   "metadata": {},
   "source": [
    "#### **Solution 2.3**\n",
    "1. - $R_y(\\theta)\\lvert 0\\rangle=\\begin{bmatrix}\\cos(\\theta/2)&-\\sin(\\theta/2)\\\\\\sin(\\theta/2)&\\cos(\\theta/2)\\end{bmatrix}\\begin{bmatrix}1\\\\0\\end{bmatrix}=\\begin{bmatrix}\\cos(\\theta/2)\\\\\\sin(\\theta/2)\\end{bmatrix}$\n",
    "    - $R_y(\\theta)\\lvert 1\\rangle=\\begin{bmatrix}\\cos(\\theta/2)&-\\sin(\\theta/2)\\\\\\sin(\\theta/2)&\\cos(\\theta/2)\\end{bmatrix}\\begin{bmatrix}0\\\\1\\end{bmatrix}=\\begin{bmatrix}-\\sin(\\theta/2)\\\\\\cos(\\theta/2)\\end{bmatrix}$\n",
    "    - $\\Rightarrow R_y(\\theta)$ rotates state vectors mathematically positive by angle of $\\theta/2$\n",
    "2. - $H\\bigg(\\frac{\\sqrt{3}}{2}\\lvert 0\\rangle+\\frac{1}{2}\\lvert 1\\rangle\\bigg)=HR_y(\\pi/3)\\lvert 0\\rangle$\n",
    "    - $H^{-1}\\bigg(-\\frac{1}{\\sqrt{2}}\\lvert 0\\rangle-\\frac{1}{\\sqrt{2}}\\lvert 1\\rangle\\bigg)=H\\bigg(-\\frac{1}{\\sqrt{2}}\\lvert 0\\rangle-\\frac{1}{\\sqrt{2}}\\lvert 1\\rangle\\bigg)=HR_y(5\\pi/2)\\lvert 0\\rangle$"
   ]
  },
  {
   "cell_type": "code",
   "execution_count": 2,
   "id": "f84cfe1d-94a7-4282-bfdc-c65ca5cff373",
   "metadata": {},
   "outputs": [
    {
     "data": {
      "image/png": "[encoded data removed]",
      "text/plain": [
       "<Figure size 193.726x84.28 with 1 Axes>"
      ]
     },
     "metadata": {},
     "output_type": "display_data"
    },
    {
     "name": "stdout",
     "output_type": "stream",
     "text": [
      "Statevector([0.96592583+0.j, 0.25881905+0.j],\n",
      "            dims=(2,))\n"
     ]
    },
    {
     "data": {
      "image/png": "[encoded data removed]",
      "text/plain": [
       "<Figure size 193.726x84.28 with 1 Axes>"
      ]
     },
     "metadata": {},
     "output_type": "display_data"
    },
    {
     "name": "stdout",
     "output_type": "stream",
     "text": [
      "Statevector([-1.00000000e+00+0.j, -2.22044605e-16+0.j],\n",
      "            dims=(2,))\n"
     ]
    }
   ],
   "source": [
    "def rot_hadamard(theta):\n",
    "    qc = QuantumCircuit(1)\n",
    "    qc.ry(theta, 0)\n",
    "    qc.h(0)\n",
    "    display(qc.draw(output=\"mpl\"))\n",
    "    display(Statevector(qc))\n",
    "\n",
    "rot_hadamard(math.pi/3)\n",
    "rot_hadamard(5*math.pi/2)"
   ]
  },
  {
   "cell_type": "markdown",
   "id": "3d7790e0-a271-4fd9-8ef8-8d7c59e9e1d2",
   "metadata": {},
   "source": [
    "#### **Solution 2.4**"
   ]
  },
  {
   "cell_type": "code",
   "execution_count": 3,
   "id": "f951c982-f3d2-4260-97a7-548f937adba0",
   "metadata": {},
   "outputs": [
    {
     "data": {
      "image/png": "[encoded data removed]",
      "text/plain": [
       "<Figure size 327.397x264.88 with 1 Axes>"
      ]
     },
     "execution_count": 3,
     "metadata": {},
     "output_type": "execute_result"
    }
   ],
   "source": [
    "# defining the circuit\n",
    "register = range(3)\n",
    "qc = QuantumCircuit(len(register), len(register))\n",
    "qc.h(register)\n",
    "qc.measure(register, register)\n",
    "qc.draw(output=\"mpl\")"
   ]
  },
  {
   "cell_type": "code",
   "execution_count": 4,
   "id": "118308e4-231d-4b66-88f8-d5cf21767e9c",
   "metadata": {},
   "outputs": [
    {
     "data": {
      "text/plain": [
       "(array([176., 182., 179., 174., 143., 170.]),\n",
       " array([0.5, 1.5, 2.5, 3.5, 4.5, 5.5, 6.5]),\n",
       " <BarContainer object of 6 artists>)"
      ]
     },
     "execution_count": 4,
     "metadata": {},
     "output_type": "execute_result"
    },
    {
     "data": {
      "image/png": "[encoded data removed]",
      "text/plain": [
       "<Figure size 432x288 with 1 Axes>"
      ]
     },
     "metadata": {
      "needs_background": "light"
     },
     "output_type": "display_data"
    }
   ],
   "source": [
    "# running the experiment\n",
    "def coin_toss(sim, qc):\n",
    "    job = sim.run(qc, shots=1)\n",
    "    result = job.result()\n",
    "    counts = result.get_counts()\n",
    "    bit_word = next(iter(counts.keys()))\n",
    "    return int(bit_word, 2)\n",
    "\n",
    "def dice_roll(sim, qc):\n",
    "    while True:\n",
    "        result = coin_toss(sim, qc)\n",
    "        if 0<result and result<7:\n",
    "            return result\n",
    "        \n",
    "def experiment(sim, qc, rolls):\n",
    "    return map(lambda _: dice_roll(sim, qc), range(rolls))\n",
    "    \n",
    "result = experiment(AerSimulator(), qc, 1024)        \n",
    "plt.hist(list(result), bins=[0.5, 1.5, 2.5, 3.5, 4.5, 5.5, 6.5])"
   ]
  }
 ],
 "metadata": {
  "kernelspec": {
   "display_name": "Python 3 (ipykernel)",
   "language": "python",
   "name": "python3"
  },
  "language_info": {
   "codemirror_mode": {
    "name": "ipython",
    "version": 3
   },
   "file_extension": ".py",
   "mimetype": "text/x-python",
   "name": "python",
   "nbconvert_exporter": "python",
   "pygments_lexer": "ipython3",
   "version": "3.9.7"
  }
 },
 "nbformat": 4,
 "nbformat_minor": 5
}
