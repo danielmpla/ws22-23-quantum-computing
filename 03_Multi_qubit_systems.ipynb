{
 "cells": [
  {
   "cell_type": "markdown",
   "id": "485ecb9f-2373-40ce-8504-9f30d666ac81",
   "metadata": {},
   "source": [
    "### **Exercise 3** Multi qubit systems\n",
    "\n",
    "This exercise deals with multi qubit systems and entanglement."
   ]
  },
  {
   "cell_type": "code",
   "execution_count": 1,
   "id": "9a040329-8c90-4e57-bc58-50248c8a82f3",
   "metadata": {},
   "outputs": [],
   "source": [
    "# imports and utilities\n",
    "from qiskit import QuantumCircuit\n",
    "from qiskit.quantum_info import Statevector\n",
    "from qiskit.providers.aer import AerSimulator\n",
    "import math"
   ]
  },
  {
   "cell_type": "markdown",
   "id": "dde372d9-793a-4323-bbc6-0712ca730287",
   "metadata": {
    "tags": []
   },
   "source": [
    "#### **Exercise 3.1** CNOT gate\n",
    "\n",
    "1. Describe the behavior of the CNOT gate (aka CX gate).\n",
    "2. Play around with the following quantum circuit. What is it doing?"
   ]
  },
  {
   "cell_type": "code",
   "execution_count": 2,
   "id": "70401278-11aa-4d78-861e-8a4926969c81",
   "metadata": {},
   "outputs": [
    {
     "data": {
      "image/png": "[encoded data removed]",
      "text/plain": [
       "<Figure size 267.052x144.48 with 1 Axes>"
      ]
     },
     "metadata": {},
     "output_type": "display_data"
    }
   ],
   "source": [
    "qc = QuantumCircuit(2)\n",
    "qc.cx(0,1)\n",
    "qc.cx(1,0)\n",
    "qc.cx(0,1)\n",
    "display(qc.draw(output=\"mpl\"))"
   ]
  },
  {
   "cell_type": "markdown",
   "id": "b202531b-4c08-4a9b-b474-4cb03b1bbe7e",
   "metadata": {},
   "source": [
    "3. Let $X=\\begin{bmatrix}0&1\\\\1&0\\end{bmatrix}$ and $Z=\\begin{bmatrix}1&0\\\\0&-1\\end{bmatrix}$ be two of the Pauli (single-qubit) gates. \n",
    "\n",
    "    1. Together with the Hadamard gate $H$, show the identity $HXH=Z$. \n",
    "    2. Use this fact to assemble a Controlled-$Z$ gate ($CZ$) out of $H$ and $CNOT$ gates. $CZ$ works by the same principle as $CNOT$ does: It applies $Z$ to its target qubit whenever its control qubit is in state $\\lvert 1\\rangle$."
   ]
  },
  {
   "cell_type": "markdown",
   "id": "b274a512-04fa-4695-9869-d6d1699b9d5f",
   "metadata": {},
   "source": [
    "#### **Exercise 3.2** Entanglement\n",
    "\n",
    "Consider the $2$-qubit states $\\lvert\\psi\\rangle=\\frac{1}{\\sqrt{2}}\\lvert 00\\rangle+\\frac{1}{\\sqrt{2}}\\lvert 01\\rangle$ and $\\lvert\\Phi^+\\rangle=\\frac{1}{\\sqrt{2}}\\lvert 00\\rangle+\\frac{1}{\\sqrt{2}}\\lvert 11\\rangle$. Solve 1. and 2. (see below) for both states:\n",
    "\n",
    "1. Find out whether the state is entangled or separable. Explain your reasoning.\n",
    "2. Build a quantum circuit that creates the state by the end of computation."
   ]
  },
  {
   "cell_type": "markdown",
   "id": "9e1cfc0d-2125-4ba0-bdd6-8fac143bf48f",
   "metadata": {},
   "source": [
    "#### **Exercise 3.3** W state\n",
    "\n",
    "The W state is the 3-qubit state $\\lvert W\\rangle=\\frac{1}{\\sqrt{3}}\\lvert 001\\rangle+\\frac{1}{\\sqrt{3}}\\lvert 010\\rangle+\\frac{1}{\\sqrt{3}}\\lvert 100\\rangle$.\n",
    "\n",
    "1. Show that $\\lvert W\\rangle$ is entangled.\n",
    "2. Explain the logics behind the following quantum circuit that creates $\\lvert W\\rangle$:"
   ]
  },
  {
   "cell_type": "code",
   "execution_count": 3,
   "id": "f84cfe1d-94a7-4282-bfdc-c65ca5cff373",
   "metadata": {},
   "outputs": [
    {
     "data": {
      "image/png": "[encoded data removed]",
      "text/plain": [
       "<Figure size 387.597x204.68 with 1 Axes>"
      ]
     },
     "execution_count": 3,
     "metadata": {},
     "output_type": "execute_result"
    }
   ],
   "source": [
    "qc = QuantumCircuit(3)\n",
    "qc.ry(2*math.acos(1/math.sqrt(3)), 0)\n",
    "qc.ch(0,1)\n",
    "qc.cx(1,2)\n",
    "qc.cx(0,1)\n",
    "qc.x(0)\n",
    "qc.draw(output=\"mpl\")"
   ]
  },
  {
   "cell_type": "markdown",
   "id": "3d7790e0-a271-4fd9-8ef8-8d7c59e9e1d2",
   "metadata": {},
   "source": [
    "#### **Exercise 3.4** A fully quantum dice simulator\n",
    "\n",
    "Use Exercise 3.3 as inspiration to solve Exercise 2.4 again. This time we want to leave out the classical part and mimic rolling the dice completely by a quantum circuit."
   ]
  }
 ],
 "metadata": {
  "kernelspec": {
   "display_name": "Python 3 (ipykernel)",
   "language": "python",
   "name": "python3"
  },
  "language_info": {
   "codemirror_mode": {
    "name": "ipython",
    "version": 3
   },
   "file_extension": ".py",
   "mimetype": "text/x-python",
   "name": "python",
   "nbconvert_exporter": "python",
   "pygments_lexer": "ipython3",
   "version": "3.9.7"
  },
  "vscode": {
   "interpreter": {
    "hash": "b0fa6594d8f4cbf19f97940f81e996739fb7646882a419484c72d19e05852a7e"
   }
  }
 },
 "nbformat": 4,
 "nbformat_minor": 5
}
