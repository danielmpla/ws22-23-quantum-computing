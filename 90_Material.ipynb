{
 "cells": [
  {
   "cell_type": "markdown",
   "id": "3d7790e0-a271-4fd9-8ef8-8d7c59e9e1d2",
   "metadata": {},
   "source": [
    "#### **Exercise 1.3** Quantum gates\n",
    "\n",
    "Given the (Pauli) single qubit gates \n",
    "$X=\\begin{bmatrix}0&1\\\\1&0\\end{bmatrix}$,\n",
    "$Y=\\begin{bmatrix}0&-i\\\\i&0\\end{bmatrix}$,\n",
    "$Z=\\begin{bmatrix}1&0\\\\0&-1\\end{bmatrix}$,\n",
    "and the Hadamard gate $H=\\frac{1}{\\sqrt{2}}\\begin{bmatrix}1&1\\\\1&-1\\end{bmatrix}$:\n",
    "\n",
    "1. Are these gates represented by unitary matrices?\n",
    "\n",
    "2. Calculate\n",
    "    - $HXH$\n",
    "    - $HYH$\n",
    "    - $HZH$\n",
    "    \n",
    "3. If $\\lvert{\\psi}\\rangle=\\alpha\\lvert 0\\rangle + \\beta\\lvert 1\\rangle$ (a single qubit),\n",
    "what is the outcome of:\n",
    "    - $XYZ\\lvert{\\psi}\\rangle$\n",
    "    - $ZYX\\lvert{\\psi}\\rangle$\n",
    "    \n",
    "4. Check your results of 3 with help of [IBM Quantum Composer](https://quantum-computing.ibm.com/composer/files/new)."
   ]
  },
  {
   "cell_type": "markdown",
   "id": "ed54287f-705c-4794-a90b-4734870e3ed1",
   "metadata": {},
   "source": [
    "$\\|\\psi\\|$ (Euklidean length) of the vector $\\psi=\\begin{bmatrix}x\\\\y\\end{bmatrix}$"
   ]
  },
  {
   "cell_type": "markdown",
   "id": "5ce2037a-225d-454f-b925-aa07e0dfaa0c",
   "metadata": {},
   "source": [
    "#### **Exercise 1.4** Two-qubit systems\n",
    "\n",
    "1. Write down the matrix representation of the circuit:\n",
    "![](./resources/H_CNOT.svg)\n",
    "\n",
    "2. Apply the circuit to the (initial) state $\\lvert\\psi\\rangle=\\lvert 00\\rangle$.\n",
    "Check your calculation with the [IBM Quantum Composer](https://quantum-computing.ibm.com/composer/files/new). Is the calculated state entangled?\n",
    "\n",
    "3. If we add another Hadamard gate:\n",
    "![](./resources/H_CNOT_H.svg)\n",
    "Is the calculated state (from initial state $\\lvert\\psi\\rangle=\\lvert 00\\rangle$) entangled?"
   ]
  }
 ],
 "metadata": {
  "kernelspec": {
   "display_name": "Python 3 (ipykernel)",
   "language": "python",
   "name": "python3"
  },
  "language_info": {
   "codemirror_mode": {
    "name": "ipython",
    "version": 3
   },
   "file_extension": ".py",
   "mimetype": "text/x-python",
   "name": "python",
   "nbconvert_exporter": "python",
   "pygments_lexer": "ipython3",
   "version": "3.10.5"
  }
 },
 "nbformat": 4,
 "nbformat_minor": 5
}
